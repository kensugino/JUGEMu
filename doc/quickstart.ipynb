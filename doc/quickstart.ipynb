{
 "cells": [
  {
   "cell_type": "markdown",
   "metadata": {},
   "source": [
    "# QuickStart\n",
    "\n",
    "We will do the assembly and merging using the data in the example_data directory in the following order:\n",
    "\n",
    "1. Preparing sample info spreadsheet\n",
    "2. Preparing inputs\n",
    "3. Assembling individual samples\n",
    "4. Evalulation of individual assemblies\n",
    "5. Preparing for merge\n",
    "6. Merging\n",
    "7. Evaluation of the merged assembly\n",
    "\n",
    "The example data is the chromosome 1 portion of the RNASeq data from the neurons in superior central nucleus raphe, medial part (CSm) and dosal nucleus raphe (DR) in Fev-Cre mouse line which labels serotoninergic neurons.  (Fev-Cre is also called ePet-Cre.) \n"
   ]
  },
  {
   "cell_type": "markdown",
   "metadata": {
    "collapsed": true
   },
   "source": [
    "## Sample Info\n",
    "\n",
    "Prepare an Excel spreadsheet or a tab separated text file which contains following fields for each sample.\n",
    "\n",
    "Required fields:\n",
    "\n",
    "- **name**: unique sample name\n",
    "- **bwfile**: location of normalized coverage in BIGWIG format\n",
    "- **sjfile**: location of splice junction table\n",
    "\n",
    "Optional fileds:\n",
    "\n",
    "- **sample_id**: unique sample identifying number\n",
    "- **group**: sample group\n",
    "- **bamfile**: BAM file location\n",
    "- **sjtabfile**: location of STAR SJ.out.tab\n",
    "- **aligned**: number of aligned reads\n",
    "\n"
   ]
  },
  {
   "cell_type": "code",
   "execution_count": 1,
   "metadata": {
    "collapsed": true
   },
   "outputs": [],
   "source": [
    "# This is to change logging level of jupyter notebook\n",
    "from importlib import reload\n",
    "import logging\n",
    "reload(logging)\n",
    "logging.basicConfig(format='%(asctime)s %(levelname)s:%(message)s', level=logging.INFO, datefmt='%I:%M:%S')"
   ]
  },
  {
   "cell_type": "code",
   "execution_count": 1,
   "metadata": {
    "collapsed": false
   },
   "outputs": [
    {
     "name": "stdout",
     "output_type": "stream",
     "text": [
      "               name                   bam                    bigwig  \\\n",
      "0   Fev_DR_m70_1623   Fev_DR_m70_1623.bam   Fev_DR_m70_1623.chr1.bw   \n",
      "1  Fev_CSm_m70_1624  Fev_CSm_m70_1624.bam  Fev_CSm_m70_1624.chr1.bw   \n",
      "2   Fev_DR_m71_1625   Fev_DR_m71_1625.bam   Fev_DR_m71_1625.chr1.bw   \n",
      "3  Fev_CSm_m71_1626  Fev_CSm_m71_1626.bam  Fev_CSm_m71_1626.chr1.bw   \n",
      "\n",
      "                              sjtab   aligned  \n",
      "0   Fev_DR_m70_1623.chr1.SJ.out.tab  24313418  \n",
      "1  Fev_CSm_m70_1624.chr1.SJ.out.tab  25857770  \n",
      "2   Fev_DR_m71_1625.chr1.SJ.out.tab  26260366  \n",
      "3  Fev_CSm_m71_1626.chr1.SJ.out.tab  26083777  \n"
     ]
    }
   ],
   "source": [
    "import pandas as PD\n",
    "import os\n",
    "\n",
    "si = PD.read_excel('../tests/data/sampleinfo.xlsx')\n",
    "print(si[['name','bam','bigwig','sjtab','aligned']])"
   ]
  },
  {
   "cell_type": "code",
   "execution_count": 2,
   "metadata": {
    "collapsed": false
   },
   "outputs": [
    {
     "name": "stdout",
     "output_type": "stream",
     "text": [
      "               name                                         bwfile  \\\n",
      "0   Fev_DR_m70_1623   ../tests/data/bigwig/Fev_DR_m70_1623.chr1.bw   \n",
      "1  Fev_CSm_m70_1624  ../tests/data/bigwig/Fev_CSm_m70_1624.chr1.bw   \n",
      "2   Fev_DR_m71_1625   ../tests/data/bigwig/Fev_DR_m71_1625.chr1.bw   \n",
      "3  Fev_CSm_m71_1626  ../tests/data/bigwig/Fev_CSm_m71_1626.chr1.bw   \n",
      "\n",
      "                                           sjtabfile  \n",
      "0   ../tests/data/SJ/Fev_DR_m70_1623.chr1.SJ.out.tab  \n",
      "1  ../tests/data/SJ/Fev_CSm_m70_1624.chr1.SJ.out.tab  \n",
      "2   ../tests/data/SJ/Fev_DR_m71_1625.chr1.SJ.out.tab  \n",
      "3  ../tests/data/SJ/Fev_CSm_m71_1626.chr1.SJ.out.tab  \n"
     ]
    }
   ],
   "source": [
    "BASEDIR = '../tests/data'\n",
    "si['bwfile'] = [os.path.join(BASEDIR, \"bigwig\", x) for x in si['bigwig']]\n",
    "si['sjtabfile'] =  [os.path.join(BASEDIR, \"SJ\", x) for x in si['sjtab']]\n",
    "\n",
    "print(si[['name','bwfile','sjtabfile']])"
   ]
  },
  {
   "cell_type": "markdown",
   "metadata": {},
   "source": [
    "## Preparing Inputs\n",
    "\n",
    "You can prepare your normalized coverage bigwig files and junction tables (format will be explained below) anyway you want, but here is one way you can prepare these from the outpus of STAR mapper (BAM and SJ.out.tab). \n",
    "\n",
    "To generate coverage bigwigs, use function [jgem.bigwig.bam2bw](modules.html#jgem.bigwig.bam2bw):\n",
    "\n",
    "```python\n",
    "from jgem import bigwig as BW\n",
    "from jgem import utils as UT\n",
    "\n",
    "chromsizes = UT.chromsizes('mm10')\n",
    "for bam, bw, aligned in si[['bamfile','bwfile','aligned']].values:\n",
    "    BW.bam2bw(bam,chromsizes,bw,aligned)\n",
    "```\n",
    "\n",
    "To generate junction files from SJ.out.tab, use function [jgem.utils.sjtab2sjbed](modules.html#jgem.gtfgffbed.sjtab2sjbed):\n"
   ]
  },
  {
   "cell_type": "code",
   "execution_count": 3,
   "metadata": {
    "collapsed": false
   },
   "outputs": [
    {
     "name": "stdout",
     "output_type": "stream",
     "text": [
      "               name                                            sjfile\n",
      "0   Fev_DR_m70_1623   ../tests/data/SJ/Fev_DR_m70_1623.chr1.sj.bed.gz\n",
      "1  Fev_CSm_m70_1624  ../tests/data/SJ/Fev_CSm_m70_1624.chr1.sj.bed.gz\n",
      "2   Fev_DR_m71_1625   ../tests/data/SJ/Fev_DR_m71_1625.chr1.sj.bed.gz\n",
      "3  Fev_CSm_m71_1626  ../tests/data/SJ/Fev_CSm_m71_1626.chr1.sj.bed.gz\n"
     ]
    }
   ],
   "source": [
    "# create destinations\n",
    "si['sjfile'] = [os.path.join(BASEDIR, \"SJ\", x[:-10]+'sj.bed.gz') for x in si['sjtab']]\n",
    "print(si[['name','sjfile']])"
   ]
  },
  {
   "cell_type": "code",
   "execution_count": 4,
   "metadata": {
    "collapsed": false
   },
   "outputs": [
    {
     "name": "stdout",
     "output_type": "stream",
     "text": [
      "CPU times: user 376 ms, sys: 33.1 ms, total: 409 ms\n",
      "Wall time: 513 ms\n"
     ]
    }
   ],
   "source": [
    "%%time\n",
    "# convert from SJ.out.tab to appropriate BED file\n",
    "from jgem import gtfgffbed as GGB\n",
    "\n",
    "for sjtab, sjbed, aligned in si[['sjtabfile','sjfile','aligned']].values:\n",
    "    GGB.sjtab2sjbed(sjtab,sjbed,aligned)"
   ]
  },
  {
   "cell_type": "code",
   "execution_count": 7,
   "metadata": {
    "collapsed": false
   },
   "outputs": [
    {
     "name": "stdout",
     "output_type": "stream",
     "text": [
      "../tests/data/SJ/Fev_CSm_m70_1624.chr1.sj.bed.gz\r\n",
      "../tests/data/SJ/Fev_CSm_m71_1626.chr1.sj.bed.gz\r\n",
      "../tests/data/SJ/Fev_DR_m70_1623.chr1.sj.bed.gz\r\n",
      "../tests/data/SJ/Fev_DR_m71_1625.chr1.sj.bed.gz\r\n"
     ]
    }
   ],
   "source": [
    "ls  ../tests/data/SJ/*.chr1.sj.bed.gz"
   ]
  },
  {
   "cell_type": "code",
   "execution_count": 9,
   "metadata": {
    "collapsed": false
   },
   "outputs": [
    {
     "name": "stdout",
     "output_type": "stream",
     "text": [
      "    chr       st       ed                 name      ucnt strand      mcnt\n",
      "0  chr1  3121707  3142317   CT/AC-k0-u4-m0-o46  0.153352      -  0.000000\n",
      "1  chr1  3207318  3213438  CT/AC-k0-u10-m0-o47  0.383380      -  0.000000\n",
      "2  chr1  3271573  3302745   GT/AG-k0-u0-m1-o37  0.000000      +  0.038338\n",
      "3  chr1  3421902  3670551  CT/AC-k1-u20-m0-o43  0.766760      -  0.000000\n",
      "4  chr1  3660890  3670551   CT/AC-k0-u2-m0-o41  0.076676      -  0.000000\n"
     ]
    }
   ],
   "source": [
    "from jgem import utils as UT\n",
    "sj = UT.read_pandas(sjbed, names=['chr','st','ed','name','ucnt','strand','mcnt'])\n",
    "print(sj.head())"
   ]
  },
  {
   "cell_type": "markdown",
   "metadata": {},
   "source": [
    "### SJ txt file format\n",
    "\n",
    "As shown above, the tab separated junction file should contain:\n",
    "\n",
    "\n",
    "- **chr**:  chromosome name\n",
    "- **st**: start position\n",
    "- **ed**: end position\n",
    "- **name**: junction name\n",
    "- **strand**: strand of junction\n",
    "- **ucnt**: unique reads (normalized to 1M mapped reads)\n",
    "- **mcnt**: non-unique (multimapping) reads (normalized)\n"
   ]
  },
  {
   "cell_type": "markdown",
   "metadata": {},
   "source": [
    "## Assembling individual samples"
   ]
  },
  {
   "cell_type": "code",
   "execution_count": 13,
   "metadata": {
    "collapsed": true
   },
   "outputs": [],
   "source": [
    "from jgem import filenames as FN\n",
    "from jgem import assembler as AS"
   ]
  },
  {
   "cell_type": "code",
   "execution_count": 14,
   "metadata": {
    "collapsed": false
   },
   "outputs": [
    {
     "name": "stdout",
     "output_type": "stream",
     "text": [
      "CPU times: user 2min 14s, sys: 9.67 s, total: 2min 23s\n",
      "Wall time: 4min 51s\n"
     ]
    }
   ],
   "source": [
    "%%time\n",
    "# assemble all samples\n",
    "for name,bwfile,sjfile in si[['name','bwfile','sjfile']].values:\n",
    "    fn = FN.FileNames(name, bwfile, sjfile, outdir='../out')\n",
    "    p = AS.Assembler(fn,saveintermediates=False)\n",
    "    p.assemble()"
   ]
  },
  {
   "cell_type": "markdown",
   "metadata": {},
   "source": [
    "In the output directory, several files are generated:"
   ]
  },
  {
   "cell_type": "code",
   "execution_count": 3,
   "metadata": {
    "collapsed": false,
    "scrolled": true
   },
   "outputs": [
    {
     "name": "stdout",
     "output_type": "stream",
     "text": [
      "../out/Fev_DR_m70_1623.assemble.params.txt.gz\r\n",
      "../out/Fev_DR_m70_1623.assemble.stats.txt.gz\r\n",
      "../out/Fev_DR_m70_1623.ex2.bed\r\n",
      "../out/Fev_DR_m70_1623.ex2.bed.gz\r\n",
      "../out/Fev_DR_m70_1623.ex2.txt.gz\r\n",
      "../out/Fev_DR_m70_1623.findsecovth.params.txt.gz\r\n",
      "../out/Fev_DR_m70_1623.findsecovth.pdf\r\n",
      "../out/Fev_DR_m70_1623.genes.bed\r\n",
      "../out/Fev_DR_m70_1623.genes.bed.gz\r\n",
      "../out/Fev_DR_m70_1623.sj.bed\r\n",
      "../out/Fev_DR_m70_1623.sj.bed.gz\r\n",
      "../out/Fev_DR_m70_1623.sj.txt.gz\r\n"
     ]
    }
   ],
   "source": [
    "ls ../out/Fev_DR_m70*"
   ]
  },
  {
   "cell_type": "markdown",
   "metadata": {},
   "source": [
    "Main outputs are .ex.txt.gz, .sj.txt.gz, each containing exons and junctions. BED files are provide for view with browsers like IGV. Below is a segment of chromosome 1 showing genes.bed files from 4 samples. "
   ]
  },
  {
   "cell_type": "markdown",
   "metadata": {},
   "source": [
    "![IGV2](_static/WMSUAE41D6ONM36O9K5LYVIFO0T7EKLM.png)"
   ]
  },
  {
   "cell_type": "markdown",
   "metadata": {},
   "source": [
    "## Evaluation of individual assemblies"
   ]
  },
  {
   "cell_type": "code",
   "execution_count": null,
   "metadata": {
    "collapsed": true
   },
   "outputs": [],
   "source": []
  },
  {
   "cell_type": "markdown",
   "metadata": {},
   "source": [
    "![](_static/UCNYV53JQT9QG8GJQSS36GKMGSIT22C2.png)"
   ]
  },
  {
   "cell_type": "code",
   "execution_count": null,
   "metadata": {
    "collapsed": true
   },
   "outputs": [],
   "source": []
  }
 ],
 "metadata": {
  "kernelspec": {
   "display_name": "Python 3",
   "language": "python",
   "name": "python3"
  },
  "language_info": {
   "codemirror_mode": {
    "name": "ipython",
    "version": 3
   },
   "file_extension": ".py",
   "mimetype": "text/x-python",
   "name": "python",
   "nbconvert_exporter": "python",
   "pygments_lexer": "ipython3",
   "version": "3.5.1"
  }
 },
 "nbformat": 4,
 "nbformat_minor": 0
}
